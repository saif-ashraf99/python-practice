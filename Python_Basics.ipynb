{
 "cells": [
  {
   "cell_type": "markdown",
   "id": "aadf5d1b-c4ef-4a4d-9300-10f76926dcc0",
   "metadata": {},
   "source": [
    "##### Python has 3 types of numbers:int-float-complex"
   ]
  },
  {
   "cell_type": "code",
   "execution_count": 17,
   "id": "4b57ce9d-d659-499e-8718-6839446640e3",
   "metadata": {},
   "outputs": [
    {
     "data": {
      "text/plain": [
       "(140000000000000, 0)"
      ]
     },
     "execution_count": 17,
     "metadata": {},
     "output_type": "execute_result"
    }
   ],
   "source": [
    "# For big numbers\n",
    "x= 14000_000_0000_000,000\n",
    "x"
   ]
  },
  {
   "cell_type": "code",
   "execution_count": 10,
   "id": "a8bbcee9-88f3-4eb8-85c2-12548dcad623",
   "metadata": {},
   "outputs": [
    {
     "data": {
      "text/plain": [
       "2.0"
      ]
     },
     "execution_count": 10,
     "metadata": {},
     "output_type": "execute_result"
    }
   ],
   "source": [
    "n=4\n",
    "n=n**(1/2)\n",
    "n"
   ]
  },
  {
   "cell_type": "code",
   "execution_count": 14,
   "id": "a9547788-a3ba-40a1-9019-93892eafca5d",
   "metadata": {},
   "outputs": [
    {
     "name": "stdout",
     "output_type": "stream",
     "text": [
      "3\n",
      "-4\n"
     ]
    }
   ],
   "source": [
    "# x//y\n",
    "# // find the lowest integer number between y and y-1\n",
    "print(13//4)\n",
    "print(-13//4)"
   ]
  },
  {
   "cell_type": "code",
   "execution_count": 16,
   "id": "e15fd99c-ee98-4c4c-b21b-c82935fbfc27",
   "metadata": {},
   "outputs": [
    {
     "name": "stdout",
     "output_type": "stream",
     "text": [
      "Y\n",
      "115\n",
      "4\n"
     ]
    }
   ],
   "source": [
    "#some built-in functions\n",
    "print(chr(89))\n",
    "print(ord('s'))\n",
    "print(len('saif'))"
   ]
  },
  {
   "cell_type": "code",
   "execution_count": 20,
   "id": "55fe8178-d0d0-4808-aac6-9ec3aab56607",
   "metadata": {},
   "outputs": [
    {
     "name": "stdin",
     "output_type": "stream",
     "text": [
      "Enter your name: saif\n"
     ]
    },
    {
     "data": {
      "text/plain": [
       "'saif'"
      ]
     },
     "execution_count": 20,
     "metadata": {},
     "output_type": "execute_result"
    }
   ],
   "source": [
    "#Get input from the user\n",
    "name= input(\"Enter your name:\")\n",
    "name"
   ]
  },
  {
   "cell_type": "code",
   "execution_count": 21,
   "id": "d8a73c43-e594-45ff-b2f3-985d76aae3b0",
   "metadata": {},
   "outputs": [
    {
     "name": "stdin",
     "output_type": "stream",
     "text": [
      "Enter integer number 55\n"
     ]
    }
   ],
   "source": [
    "#Note that input function always return string\n",
    "value= input('Enter integer number')"
   ]
  },
  {
   "cell_type": "code",
   "execution_count": 22,
   "id": "cf7ceed1-2e8e-47c9-bd79-8123fad1bc21",
   "metadata": {},
   "outputs": [
    {
     "data": {
      "text/plain": [
       "str"
      ]
     },
     "execution_count": 22,
     "metadata": {},
     "output_type": "execute_result"
    }
   ],
   "source": [
    "type(value)"
   ]
  },
  {
   "cell_type": "code",
   "execution_count": 23,
   "id": "78e7d383-d569-4871-b744-0c35f7e684dc",
   "metadata": {},
   "outputs": [
    {
     "data": {
      "text/plain": [
       "55"
      ]
     },
     "execution_count": 23,
     "metadata": {},
     "output_type": "execute_result"
    }
   ],
   "source": [
    "int(value)"
   ]
  },
  {
   "cell_type": "code",
   "execution_count": 24,
   "id": "a592bf4c-cad4-4d4a-90dc-f4a6c7230e31",
   "metadata": {},
   "outputs": [
    {
     "name": "stdin",
     "output_type": "stream",
     "text": [
      "Enter integer number 55\n"
     ]
    }
   ],
   "source": [
    "another_value= int(input('Enter integer number'))"
   ]
  },
  {
   "cell_type": "code",
   "execution_count": 25,
   "id": "b0a58c56-fa6b-45d3-99df-808006f1bd26",
   "metadata": {},
   "outputs": [
    {
     "data": {
      "text/plain": [
       "int"
      ]
     },
     "execution_count": 25,
     "metadata": {},
     "output_type": "execute_result"
    }
   ],
   "source": [
    "type(another_value)"
   ]
  },
  {
   "cell_type": "code",
   "execution_count": 28,
   "id": "faf78f2b-c9f6-4e42-aeff-111dc7ce9e33",
   "metadata": {},
   "outputs": [],
   "source": [
    "# one of the rare intialization methods\n",
    "x: int= 55"
   ]
  },
  {
   "cell_type": "code",
   "execution_count": 29,
   "id": "e1935bc0-c45b-4268-b9c4-671d4b3eea4b",
   "metadata": {},
   "outputs": [
    {
     "name": "stdout",
     "output_type": "stream",
     "text": [
      "Saif Ashraf\n"
     ]
    }
   ],
   "source": [
    "name= 'saif ashraf'\n",
    "print(name.title())"
   ]
  },
  {
   "cell_type": "code",
   "execution_count": 32,
   "id": "8037efa8-ca8d-4829-8400-14658a4266ef",
   "metadata": {},
   "outputs": [
    {
     "data": {
      "text/plain": [
       "'saif         '"
      ]
     },
     "execution_count": 32,
     "metadata": {},
     "output_type": "execute_result"
    }
   ],
   "source": [
    "name='               saif         '\n",
    "name.lstrip()"
   ]
  },
  {
   "cell_type": "code",
   "execution_count": 33,
   "id": "a32ac419-1155-45f8-a3e0-bf7063046d5d",
   "metadata": {},
   "outputs": [
    {
     "data": {
      "text/plain": [
       "'               saif'"
      ]
     },
     "execution_count": 33,
     "metadata": {},
     "output_type": "execute_result"
    }
   ],
   "source": [
    "name.rstrip()"
   ]
  },
  {
   "cell_type": "code",
   "execution_count": 34,
   "id": "6824768a-15cd-4464-8769-ea74d0a4324d",
   "metadata": {},
   "outputs": [
    {
     "data": {
      "text/plain": [
       "'saif'"
      ]
     },
     "execution_count": 34,
     "metadata": {},
     "output_type": "execute_result"
    }
   ],
   "source": [
    "name.strip()"
   ]
  },
  {
   "cell_type": "code",
   "execution_count": 38,
   "id": "ca4d9773-77f5-429f-b337-6a743256336b",
   "metadata": {},
   "outputs": [
    {
     "data": {
      "text/plain": [
       "11"
      ]
     },
     "execution_count": 38,
     "metadata": {},
     "output_type": "execute_result"
    }
   ],
   "source": [
    "num=1099\n",
    "num.bit_length()"
   ]
  },
  {
   "cell_type": "code",
   "execution_count": 39,
   "id": "31297f40-f640-4e7b-94ec-666dbfa06b5f",
   "metadata": {},
   "outputs": [
    {
     "data": {
      "text/plain": [
       "'0b10001001011'"
      ]
     },
     "execution_count": 39,
     "metadata": {},
     "output_type": "execute_result"
    }
   ],
   "source": [
    "bin(num)"
   ]
  },
  {
   "cell_type": "code",
   "execution_count": 42,
   "id": "fbfe181e-fb2a-4bef-8c60-65015d89fd73",
   "metadata": {},
   "outputs": [
    {
     "data": {
      "text/plain": [
       "(50, 1)"
      ]
     },
     "execution_count": 42,
     "metadata": {},
     "output_type": "execute_result"
    }
   ],
   "source": [
    "#find the division of any 2 integer numbers to find the target\n",
    "x=50\n",
    "x.as_integer_ratio()"
   ]
  },
  {
   "cell_type": "code",
   "execution_count": 44,
   "id": "c98d6195-5a5a-4d34-9061-09bcaeb5f352",
   "metadata": {},
   "outputs": [
    {
     "data": {
      "text/plain": [
       "1700.0"
      ]
     },
     "execution_count": 44,
     "metadata": {},
     "output_type": "execute_result"
    }
   ],
   "source": [
    "#e power3=*10 power3\n",
    "z =1.7e3\n",
    "z"
   ]
  },
  {
   "cell_type": "code",
   "execution_count": 45,
   "id": "8204a117-fd8d-4fa9-b61d-8c662e04e189",
   "metadata": {
    "scrolled": true
   },
   "outputs": [
    {
     "data": {
      "text/plain": [
       "['__add__',\n",
       " '__class__',\n",
       " '__contains__',\n",
       " '__delattr__',\n",
       " '__dir__',\n",
       " '__doc__',\n",
       " '__eq__',\n",
       " '__format__',\n",
       " '__ge__',\n",
       " '__getattribute__',\n",
       " '__getitem__',\n",
       " '__getnewargs__',\n",
       " '__getstate__',\n",
       " '__gt__',\n",
       " '__hash__',\n",
       " '__init__',\n",
       " '__init_subclass__',\n",
       " '__iter__',\n",
       " '__le__',\n",
       " '__len__',\n",
       " '__lt__',\n",
       " '__mod__',\n",
       " '__mul__',\n",
       " '__ne__',\n",
       " '__new__',\n",
       " '__reduce__',\n",
       " '__reduce_ex__',\n",
       " '__repr__',\n",
       " '__rmod__',\n",
       " '__rmul__',\n",
       " '__setattr__',\n",
       " '__sizeof__',\n",
       " '__str__',\n",
       " '__subclasshook__',\n",
       " 'capitalize',\n",
       " 'casefold',\n",
       " 'center',\n",
       " 'count',\n",
       " 'encode',\n",
       " 'endswith',\n",
       " 'expandtabs',\n",
       " 'find',\n",
       " 'format',\n",
       " 'format_map',\n",
       " 'index',\n",
       " 'isalnum',\n",
       " 'isalpha',\n",
       " 'isascii',\n",
       " 'isdecimal',\n",
       " 'isdigit',\n",
       " 'isidentifier',\n",
       " 'islower',\n",
       " 'isnumeric',\n",
       " 'isprintable',\n",
       " 'isspace',\n",
       " 'istitle',\n",
       " 'isupper',\n",
       " 'join',\n",
       " 'ljust',\n",
       " 'lower',\n",
       " 'lstrip',\n",
       " 'maketrans',\n",
       " 'partition',\n",
       " 'removeprefix',\n",
       " 'removesuffix',\n",
       " 'replace',\n",
       " 'rfind',\n",
       " 'rindex',\n",
       " 'rjust',\n",
       " 'rpartition',\n",
       " 'rsplit',\n",
       " 'rstrip',\n",
       " 'split',\n",
       " 'splitlines',\n",
       " 'startswith',\n",
       " 'strip',\n",
       " 'swapcase',\n",
       " 'title',\n",
       " 'translate',\n",
       " 'upper',\n",
       " 'zfill']"
      ]
     },
     "execution_count": 45,
     "metadata": {},
     "output_type": "execute_result"
    }
   ],
   "source": [
    "#dir function give me a list of methods that I can perform it on the object\n",
    "name='saif'\n",
    "dir(name)"
   ]
  },
  {
   "cell_type": "markdown",
   "id": "db480728-95c2-4cbc-8c6f-ef47c11f24d1",
   "metadata": {},
   "source": [
    "#### Booleans"
   ]
  },
  {
   "cell_type": "code",
   "execution_count": 47,
   "id": "2181e9ff-a964-4c2d-821e-1c120a7ffaa2",
   "metadata": {},
   "outputs": [
    {
     "name": "stdout",
     "output_type": "stream",
     "text": [
      "False\n",
      "False\n",
      "False\n"
     ]
    }
   ],
   "source": [
    "print(bool(0)) #any number will give us true except zero\n",
    "print(bool('')) #any string will give us true except empty string\n",
    "print(bool(None))"
   ]
  },
  {
   "cell_type": "code",
   "execution_count": 48,
   "id": "f4dbf290-d133-4b33-8615-c6fdad8f25d1",
   "metadata": {},
   "outputs": [
    {
     "data": {
      "text/plain": [
       "0"
      ]
     },
     "execution_count": 48,
     "metadata": {},
     "output_type": "execute_result"
    }
   ],
   "source": [
    "int(False)"
   ]
  },
  {
   "cell_type": "code",
   "execution_count": 49,
   "id": "bc3bb3cf-e093-4201-92fd-dd99111e2b96",
   "metadata": {},
   "outputs": [
    {
     "data": {
      "text/plain": [
       "1"
      ]
     },
     "execution_count": 49,
     "metadata": {},
     "output_type": "execute_result"
    }
   ],
   "source": [
    "int(True)"
   ]
  },
  {
   "cell_type": "code",
   "execution_count": 50,
   "id": "00cca0f3-a92b-4864-a768-06b1e077f6ab",
   "metadata": {},
   "outputs": [
    {
     "data": {
      "text/plain": [
       "6"
      ]
     },
     "execution_count": 50,
     "metadata": {},
     "output_type": "execute_result"
    }
   ],
   "source": [
    "5+int(True)"
   ]
  },
  {
   "cell_type": "code",
   "execution_count": 51,
   "id": "bc0e78b7-ae9d-4085-9ae1-a791adf4b78c",
   "metadata": {},
   "outputs": [
    {
     "data": {
      "text/plain": [
       "0"
      ]
     },
     "execution_count": 51,
     "metadata": {},
     "output_type": "execute_result"
    }
   ],
   "source": [
    "13*int(False)"
   ]
  },
  {
   "cell_type": "markdown",
   "id": "8b6a99ce-6224-4a96-92aa-e0a4b8a770d9",
   "metadata": {},
   "source": [
    "#### Is & In\n",
    "is differ from '=='<br>\n",
    "'==' compare the content<br>\n",
    "is compare the ids"
   ]
  },
  {
   "cell_type": "code",
   "execution_count": 54,
   "id": "64eef69d-bd02-4cd7-939e-713fb373f3bb",
   "metadata": {},
   "outputs": [
    {
     "data": {
      "text/plain": [
       "True"
      ]
     },
     "execution_count": 54,
     "metadata": {},
     "output_type": "execute_result"
    }
   ],
   "source": [
    "'e' in 'hello'"
   ]
  },
  {
   "cell_type": "code",
   "execution_count": 55,
   "id": "d344b68e-bdaf-414c-9b66-1afd84f0c3eb",
   "metadata": {},
   "outputs": [
    {
     "data": {
      "text/plain": [
       "True"
      ]
     },
     "execution_count": 55,
     "metadata": {},
     "output_type": "execute_result"
    }
   ],
   "source": [
    "3 in [1,2,3]"
   ]
  },
  {
   "cell_type": "code",
   "execution_count": 56,
   "id": "87a869b6-339d-4a1b-a256-02c4ead5f327",
   "metadata": {},
   "outputs": [
    {
     "data": {
      "text/plain": [
       "False"
      ]
     },
     "execution_count": 56,
     "metadata": {},
     "output_type": "execute_result"
    }
   ],
   "source": [
    "'3' in [1,2,3]"
   ]
  },
  {
   "cell_type": "code",
   "execution_count": 57,
   "id": "958189d4-6a80-4ce1-b9d8-c13a817e323e",
   "metadata": {},
   "outputs": [
    {
     "name": "stderr",
     "output_type": "stream",
     "text": [
      "<>:1: SyntaxWarning: \"is\" with a literal. Did you mean \"==\"?\n",
      "<>:1: SyntaxWarning: \"is\" with a literal. Did you mean \"==\"?\n",
      "C:\\Users\\Saif\\AppData\\Local\\Temp\\ipykernel_12956\\1633268123.py:1: SyntaxWarning: \"is\" with a literal. Did you mean \"==\"?\n",
      "  'Hello' is 'Hello'\n"
     ]
    },
    {
     "data": {
      "text/plain": [
       "True"
      ]
     },
     "execution_count": 57,
     "metadata": {},
     "output_type": "execute_result"
    }
   ],
   "source": [
    "'Hello' is 'Hello'"
   ]
  },
  {
   "cell_type": "code",
   "execution_count": 58,
   "id": "750476cb-d13d-4215-a933-81915cf9a222",
   "metadata": {},
   "outputs": [
    {
     "name": "stderr",
     "output_type": "stream",
     "text": [
      "<>:1: SyntaxWarning: \"is\" with a literal. Did you mean \"==\"?\n",
      "<>:1: SyntaxWarning: \"is\" with a literal. Did you mean \"==\"?\n",
      "C:\\Users\\Saif\\AppData\\Local\\Temp\\ipykernel_12956\\3938569512.py:1: SyntaxWarning: \"is\" with a literal. Did you mean \"==\"?\n",
      "  10 is 10\n"
     ]
    },
    {
     "data": {
      "text/plain": [
       "True"
      ]
     },
     "execution_count": 58,
     "metadata": {},
     "output_type": "execute_result"
    }
   ],
   "source": [
    "10 is 10"
   ]
  },
  {
   "cell_type": "code",
   "execution_count": 59,
   "id": "04fbe8b6-f8ae-4305-97ac-699031df2234",
   "metadata": {},
   "outputs": [],
   "source": [
    "x=15\n",
    "y=15"
   ]
  },
  {
   "cell_type": "code",
   "execution_count": 60,
   "id": "5ffa5b11-a4cc-4ab7-864c-8512f4c7dcb8",
   "metadata": {},
   "outputs": [
    {
     "data": {
      "text/plain": [
       "True"
      ]
     },
     "execution_count": 60,
     "metadata": {},
     "output_type": "execute_result"
    }
   ],
   "source": [
    "x is y"
   ]
  },
  {
   "cell_type": "code",
   "execution_count": 61,
   "id": "3f61f44e-0a42-48c4-a545-9493247c745e",
   "metadata": {},
   "outputs": [
    {
     "data": {
      "text/plain": [
       "True"
      ]
     },
     "execution_count": 61,
     "metadata": {},
     "output_type": "execute_result"
    }
   ],
   "source": [
    "x==y"
   ]
  },
  {
   "cell_type": "code",
   "execution_count": 63,
   "id": "be2e95b4-67b4-40fb-84c4-79721434d2e0",
   "metadata": {},
   "outputs": [
    {
     "name": "stdout",
     "output_type": "stream",
     "text": [
      "140709740606696\n",
      "140709740606696\n"
     ]
    }
   ],
   "source": [
    "print(id(x))\n",
    "print(id(y))"
   ]
  },
  {
   "cell_type": "code",
   "execution_count": 64,
   "id": "5fb660f7-1a16-4e31-88d8-6e5ccfb899f3",
   "metadata": {},
   "outputs": [],
   "source": [
    "x=[1,2,3]\n",
    "y=[1,2,3]"
   ]
  },
  {
   "cell_type": "code",
   "execution_count": 65,
   "id": "f9e9b808-1a94-4bfc-a2ca-c1847489b1eb",
   "metadata": {},
   "outputs": [
    {
     "data": {
      "text/plain": [
       "True"
      ]
     },
     "execution_count": 65,
     "metadata": {},
     "output_type": "execute_result"
    }
   ],
   "source": [
    "x == y"
   ]
  },
  {
   "cell_type": "code",
   "execution_count": 66,
   "id": "4aedefff-0613-4187-9809-901db9d39072",
   "metadata": {},
   "outputs": [
    {
     "data": {
      "text/plain": [
       "False"
      ]
     },
     "execution_count": 66,
     "metadata": {},
     "output_type": "execute_result"
    }
   ],
   "source": [
    "x is y"
   ]
  },
  {
   "cell_type": "code",
   "execution_count": 67,
   "id": "8c436be3-f901-4f28-b569-9959990fb03b",
   "metadata": {},
   "outputs": [
    {
     "name": "stdout",
     "output_type": "stream",
     "text": [
      "1856867641408\n",
      "1856872765888\n"
     ]
    }
   ],
   "source": [
    "print(id(x))\n",
    "print(id(y))"
   ]
  },
  {
   "cell_type": "markdown",
   "id": "0432b39d-c570-412d-a038-276e1ea405bc",
   "metadata": {},
   "source": [
    "#### Sequence: we have two types ordered and unordered.\n",
    "ordered: lists(mutable)- strings(immutable)- tuples(immutable)<br>\n",
    "unordered: sets(immutable)- dictionaries(mutable)"
   ]
  },
  {
   "cell_type": "markdown",
   "id": "ef1d436b-092c-4254-8956-3d1b6c78eff1",
   "metadata": {},
   "source": [
    "##### Lists: lists not arrays"
   ]
  },
  {
   "cell_type": "code",
   "execution_count": 71,
   "id": "c0ce3fae-ebad-48ca-8d6c-6a3e9ed38df0",
   "metadata": {},
   "outputs": [
    {
     "data": {
      "text/plain": [
       "list"
      ]
     },
     "execution_count": 71,
     "metadata": {},
     "output_type": "execute_result"
    }
   ],
   "source": [
    "numbers= [1,10,54,-50,2000]\n",
    "misc= [(1,2),[1,2,3],{\"key\":'value'},54,'saif']\n",
    "type(misc)"
   ]
  },
  {
   "cell_type": "code",
   "execution_count": 77,
   "id": "62203e64-4ae9-4c8a-bb09-64e3ae171ce3",
   "metadata": {},
   "outputs": [
    {
     "name": "stdout",
     "output_type": "stream",
     "text": [
      "Saif Ashraf Abdallah\n"
     ]
    }
   ],
   "source": [
    "names= ['saif','saif ashraf abdallah','7madaa','midoo']\n",
    "print(names[1].title())"
   ]
  },
  {
   "cell_type": "code",
   "execution_count": 78,
   "id": "d32ee2c1-0307-49c7-92e5-b909d8d58df3",
   "metadata": {},
   "outputs": [
    {
     "name": "stdout",
     "output_type": "stream",
     "text": [
      "midoo\n"
     ]
    }
   ],
   "source": [
    "print(names[-1])"
   ]
  },
  {
   "cell_type": "code",
   "execution_count": 81,
   "id": "a9496c45-9a8a-49ec-ae71-28959841a1ef",
   "metadata": {},
   "outputs": [
    {
     "data": {
      "text/plain": [
       "['ziad', 'saif ashraf abdallah', '7madaa', 'midoo']"
      ]
     },
     "execution_count": 81,
     "metadata": {},
     "output_type": "execute_result"
    }
   ],
   "source": [
    "#Lists is mutable\n",
    "names[0]='ziad'\n",
    "names"
   ]
  },
  {
   "cell_type": "code",
   "execution_count": 86,
   "id": "fa1b3d12-d9c9-47de-ad82-8fcf9d09647a",
   "metadata": {},
   "outputs": [
    {
     "data": {
      "text/plain": [
       "['ziad', 'saif ashraf abdallah', '7madaa', 'ali']"
      ]
     },
     "execution_count": 86,
     "metadata": {},
     "output_type": "execute_result"
    }
   ],
   "source": [
    "names.append('ali')\n",
    "names"
   ]
  },
  {
   "cell_type": "code",
   "execution_count": 87,
   "id": "878d944f-04f0-4ae1-bbb6-1065fd328a76",
   "metadata": {},
   "outputs": [
    {
     "data": {
      "text/plain": [
       "'ali'"
      ]
     },
     "execution_count": 87,
     "metadata": {},
     "output_type": "execute_result"
    }
   ],
   "source": [
    "popped_names=names.pop()\n",
    "popped_names"
   ]
  },
  {
   "cell_type": "code",
   "execution_count": 88,
   "id": "f2be34d4-e185-4345-b98a-66f5437d6569",
   "metadata": {},
   "outputs": [
    {
     "data": {
      "text/plain": [
       "['ziad', 'saif ashraf abdallah', '7madaa']"
      ]
     },
     "execution_count": 88,
     "metadata": {},
     "output_type": "execute_result"
    }
   ],
   "source": [
    "names"
   ]
  },
  {
   "cell_type": "code",
   "execution_count": 89,
   "id": "c63f4a26-b1f2-43d2-a98d-dad1f6137cea",
   "metadata": {},
   "outputs": [
    {
     "data": {
      "text/plain": [
       "['saif ashraf abdallah', '7madaa']"
      ]
     },
     "execution_count": 89,
     "metadata": {},
     "output_type": "execute_result"
    }
   ],
   "source": [
    "names.remove('ziad')\n",
    "names"
   ]
  },
  {
   "cell_type": "code",
   "execution_count": 90,
   "id": "e03f54fe-13a8-458a-abf1-129eccdedba1",
   "metadata": {},
   "outputs": [],
   "source": [
    "names.append('zegoo')\n",
    "names.append('yasser')"
   ]
  },
  {
   "cell_type": "code",
   "execution_count": 92,
   "id": "9d9cf746-854f-4d8e-a49f-5255c7578808",
   "metadata": {},
   "outputs": [
    {
     "data": {
      "text/plain": [
       "['7madaa', 'saif ashraf abdallah', 'yasser', 'zegoo']"
      ]
     },
     "execution_count": 92,
     "metadata": {},
     "output_type": "execute_result"
    }
   ],
   "source": [
    "names.sort()\n",
    "names"
   ]
  },
  {
   "cell_type": "code",
   "execution_count": 93,
   "id": "6dd79af3-05f6-4cc2-99ce-ca372f0eb4dc",
   "metadata": {},
   "outputs": [
    {
     "data": {
      "text/plain": [
       "['zegoo', 'yasser', 'saif ashraf abdallah', '7madaa']"
      ]
     },
     "execution_count": 93,
     "metadata": {},
     "output_type": "execute_result"
    }
   ],
   "source": [
    "names.sort(reverse=True)\n",
    "names"
   ]
  },
  {
   "cell_type": "code",
   "execution_count": 94,
   "id": "0b177d29-c167-41b4-a55c-feeb9d1210cd",
   "metadata": {},
   "outputs": [
    {
     "name": "stdout",
     "output_type": "stream",
     "text": [
      "['7madaa', 'saif ashraf abdallah', 'yasser', 'zegoo']\n"
     ]
    }
   ],
   "source": [
    "#sorted function for presenting only doesn't change the list\n",
    "print(sorted(names))"
   ]
  },
  {
   "cell_type": "code",
   "execution_count": 95,
   "id": "9ec29cad-b7a8-4c49-a442-270aef792821",
   "metadata": {},
   "outputs": [
    {
     "data": {
      "text/plain": [
       "['zegoo', 'yasser', 'saif ashraf abdallah', '7madaa']"
      ]
     },
     "execution_count": 95,
     "metadata": {},
     "output_type": "execute_result"
    }
   ],
   "source": [
    "names"
   ]
  },
  {
   "cell_type": "code",
   "execution_count": 96,
   "id": "bdc6870a-30ec-4a43-b33c-4adc56ac4b72",
   "metadata": {},
   "outputs": [],
   "source": [
    "num1=[1,2,3]\n",
    "num2=[4,5,6]"
   ]
  },
  {
   "cell_type": "code",
   "execution_count": 98,
   "id": "de475d98-758b-4323-9b4f-8f6428c99b96",
   "metadata": {},
   "outputs": [
    {
     "data": {
      "text/plain": [
       "[1, 2, 3, 4, 5, 6]"
      ]
     },
     "execution_count": 98,
     "metadata": {},
     "output_type": "execute_result"
    }
   ],
   "source": [
    "num= num1+num2\n",
    "num"
   ]
  },
  {
   "cell_type": "code",
   "execution_count": 101,
   "id": "603aebaf-f5ad-47b3-babb-eeebe9485a2b",
   "metadata": {},
   "outputs": [
    {
     "data": {
      "text/plain": [
       "[4, 5, 6, 4, 5, 6]"
      ]
     },
     "execution_count": 101,
     "metadata": {},
     "output_type": "execute_result"
    }
   ],
   "source": [
    "num2*2"
   ]
  },
  {
   "cell_type": "code",
   "execution_count": 102,
   "id": "52c610f5-67f4-4c51-8446-088cfddb52be",
   "metadata": {},
   "outputs": [],
   "source": [
    "del(num[0])"
   ]
  },
  {
   "cell_type": "code",
   "execution_count": 103,
   "id": "762888d4-486c-4816-b721-827d4757ae06",
   "metadata": {},
   "outputs": [
    {
     "data": {
      "text/plain": [
       "[2, 3, 4, 5, 6]"
      ]
     },
     "execution_count": 103,
     "metadata": {},
     "output_type": "execute_result"
    }
   ],
   "source": [
    "num"
   ]
  },
  {
   "cell_type": "code",
   "execution_count": 110,
   "id": "6d5ede5f-d8d1-408d-be4a-07975027067c",
   "metadata": {},
   "outputs": [
    {
     "data": {
      "text/plain": [
       "[2, 3, 4, 5, 6]"
      ]
     },
     "execution_count": 110,
     "metadata": {},
     "output_type": "execute_result"
    }
   ],
   "source": [
    "num.reverse()\n",
    "print(num)"
   ]
  },
  {
   "cell_type": "code",
   "execution_count": 111,
   "id": "45a6836a-93b1-4690-9f7c-3017cbf22978",
   "metadata": {},
   "outputs": [
    {
     "data": {
      "text/plain": [
       "['p', 'y', 't', 'h', 'o', 'n']"
      ]
     },
     "execution_count": 111,
     "metadata": {},
     "output_type": "execute_result"
    }
   ],
   "source": [
    "list('python')"
   ]
  },
  {
   "cell_type": "code",
   "execution_count": 113,
   "id": "52d5de85-68e3-415c-985c-e8ed56781e8f",
   "metadata": {},
   "outputs": [
    {
     "data": {
      "text/plain": [
       "[(0, 'zegoo'), (1, 'yasser'), (2, 'saif ashraf abdallah'), (3, '7madaa')]"
      ]
     },
     "execution_count": 113,
     "metadata": {},
     "output_type": "execute_result"
    }
   ],
   "source": [
    "#enumerate for unpacking\n",
    "list(enumerate(names))"
   ]
  },
  {
   "cell_type": "code",
   "execution_count": 114,
   "id": "35fda063-337e-41b7-a047-982d07123625",
   "metadata": {},
   "outputs": [
    {
     "name": "stdout",
     "output_type": "stream",
     "text": [
      "0 ------------- zegoo\n",
      "1 ------------- yasser\n",
      "2 ------------- saif ashraf abdallah\n",
      "3 ------------- 7madaa\n"
     ]
    }
   ],
   "source": [
    "for i,v in enumerate(names):\n",
    "    print(i,'-------------',v)"
   ]
  },
  {
   "cell_type": "code",
   "execution_count": 115,
   "id": "4c8e5545-2571-40fd-8161-85b8bbe57bd1",
   "metadata": {},
   "outputs": [
    {
     "data": {
      "text/plain": [
       "[2, 4, 6, 8, 10, 12, 14, 16, 18]"
      ]
     },
     "execution_count": 115,
     "metadata": {},
     "output_type": "execute_result"
    }
   ],
   "source": [
    "# Slicing(start, stop, step)\n",
    "list(range(2,20,2))"
   ]
  },
  {
   "cell_type": "code",
   "execution_count": 116,
   "id": "a77c0ac6-d6b2-4d42-ae56-3577a9f71984",
   "metadata": {},
   "outputs": [
    {
     "data": {
      "text/plain": [
       "[0, 1, 2, 3, 4, 5, 6, 7, 8, 9]"
      ]
     },
     "execution_count": 116,
     "metadata": {},
     "output_type": "execute_result"
    }
   ],
   "source": [
    "list(range(10)) #default for one argument is stop"
   ]
  },
  {
   "cell_type": "code",
   "execution_count": 118,
   "id": "f04f1270-d504-4abc-8484-98e6d5472faf",
   "metadata": {},
   "outputs": [
    {
     "data": {
      "text/plain": [
       "[20, 18, 16, 14, 12, 10, 8, 6, 4]"
      ]
     },
     "execution_count": 118,
     "metadata": {},
     "output_type": "execute_result"
    }
   ],
   "source": [
    "list(range(20,2,-2))"
   ]
  },
  {
   "cell_type": "markdown",
   "id": "76336afd-0064-46e4-9c92-4173a18d9728",
   "metadata": {},
   "source": [
    "##### List Comprehension"
   ]
  },
  {
   "cell_type": "code",
   "execution_count": 120,
   "id": "f97b1839-2c51-439d-b5bd-8faa46b9c42e",
   "metadata": {},
   "outputs": [
    {
     "data": {
      "text/plain": [
       "[1, 4, 9, 16, 25, 36, 49, 64, 81, 100]"
      ]
     },
     "execution_count": 120,
     "metadata": {},
     "output_type": "execute_result"
    }
   ],
   "source": [
    "squares=[]\n",
    "for sq in range(1,11):\n",
    "    squares.append(sq**2)\n",
    "squares"
   ]
  },
  {
   "cell_type": "code",
   "execution_count": 121,
   "id": "f3d7a52a-7dd8-4efb-9cdf-1ac83cf8c873",
   "metadata": {},
   "outputs": [
    {
     "data": {
      "text/plain": [
       "[1, 4, 9, 16, 25, 36, 49, 64, 81, 100]"
      ]
     },
     "execution_count": 121,
     "metadata": {},
     "output_type": "execute_result"
    }
   ],
   "source": [
    "squares2=[sq**2 for sq in range(1,11)]\n",
    "squares2"
   ]
  },
  {
   "cell_type": "code",
   "execution_count": 122,
   "id": "e97aeb4a-e64b-46f7-936a-fd4f4cf9a29e",
   "metadata": {},
   "outputs": [
    {
     "name": "stdout",
     "output_type": "stream",
     "text": [
      "['trekaa', 'barakaat', 'zedaan', 'saif']\n",
      "['barakaat', 'zedaan', 'saif']\n",
      "['trekaa', 'barakaat']\n"
     ]
    }
   ],
   "source": [
    "players=['trekaa', 'barakaat', 'zedaan', 'saif']\n",
    "print(players[:])\n",
    "print(players[1:])\n",
    "print(players[:2])"
   ]
  },
  {
   "cell_type": "code",
   "execution_count": 131,
   "id": "75bea7b8-79a0-4b5a-8c0c-2145913774ae",
   "metadata": {},
   "outputs": [],
   "source": [
    "my_drinks=['shi', 'bebsy', 'seven']\n",
    "friend_drinks=my_drinks[:]"
   ]
  },
  {
   "cell_type": "code",
   "execution_count": 132,
   "id": "46c42e93-284d-4571-a40a-72f6f2cad0bd",
   "metadata": {},
   "outputs": [],
   "source": [
    "my_drinks.append('mangoo')"
   ]
  },
  {
   "cell_type": "code",
   "execution_count": 133,
   "id": "98c70ae0-ec43-4d88-8dc9-95a952d1ab78",
   "metadata": {},
   "outputs": [
    {
     "data": {
      "text/plain": [
       "['shi', 'bebsy', 'seven']"
      ]
     },
     "execution_count": 133,
     "metadata": {},
     "output_type": "execute_result"
    }
   ],
   "source": [
    "friend_drinks"
   ]
  },
  {
   "cell_type": "code",
   "execution_count": 134,
   "id": "623ec5ff-3fac-4bc6-b802-867e81243f1e",
   "metadata": {},
   "outputs": [
    {
     "data": {
      "text/plain": [
       "['shi', 'bebsy', 'seven', 'mangoo']"
      ]
     },
     "execution_count": 134,
     "metadata": {},
     "output_type": "execute_result"
    }
   ],
   "source": [
    "my_drinks"
   ]
  },
  {
   "cell_type": "markdown",
   "id": "185b2b0e-5e8c-4d1d-8ed2-359aaf25cefa",
   "metadata": {},
   "source": [
    "##### Tuples: Ordered and Immutable"
   ]
  },
  {
   "cell_type": "code",
   "execution_count": 6,
   "id": "1a737cd0-e475-4c81-a5d2-84a84b1bd25b",
   "metadata": {},
   "outputs": [
    {
     "name": "stdout",
     "output_type": "stream",
     "text": [
      "200\n"
     ]
    }
   ],
   "source": [
    "dims= (200,55,400,55)\n",
    "print(dims[0])"
   ]
  },
  {
   "cell_type": "code",
   "execution_count": 2,
   "id": "2a09a642-343a-4388-b005-cc0f4a76c8b7",
   "metadata": {},
   "outputs": [
    {
     "ename": "TypeError",
     "evalue": "'tuple' object does not support item assignment",
     "output_type": "error",
     "traceback": [
      "\u001b[1;31m---------------------------------------------------------------------------\u001b[0m",
      "\u001b[1;31mTypeError\u001b[0m                                 Traceback (most recent call last)",
      "Cell \u001b[1;32mIn[2], line 1\u001b[0m\n\u001b[1;32m----> 1\u001b[0m \u001b[43mdims\u001b[49m\u001b[43m[\u001b[49m\u001b[38;5;241;43m0\u001b[39;49m\u001b[43m]\u001b[49m\u001b[38;5;241m=\u001b[39m \u001b[38;5;241m6\u001b[39m \u001b[38;5;66;03m#error, tuples are immutable\u001b[39;00m\n",
      "\u001b[1;31mTypeError\u001b[0m: 'tuple' object does not support item assignment"
     ]
    }
   ],
   "source": [
    "dims[0]= 6 #error, tuples are immutable"
   ]
  },
  {
   "cell_type": "code",
   "execution_count": 3,
   "id": "903d2412-851f-4be3-8499-ff95e720c9db",
   "metadata": {},
   "outputs": [],
   "source": [
    "two_d= ((2,5),(8,9),(7,2))\n",
    "misc_d=((5,'saif'),(5,5),[1,2,3],{'saif',22})"
   ]
  },
  {
   "cell_type": "code",
   "execution_count": 7,
   "id": "4158b474-6997-4e91-9abd-7a7bdc85980c",
   "metadata": {},
   "outputs": [
    {
     "data": {
      "text/plain": [
       "2"
      ]
     },
     "execution_count": 7,
     "metadata": {},
     "output_type": "execute_result"
    }
   ],
   "source": [
    "dims.count(55)"
   ]
  },
  {
   "cell_type": "code",
   "execution_count": 8,
   "id": "a02e6619-ba1c-4ca5-939b-792f3bcd9eb6",
   "metadata": {},
   "outputs": [
    {
     "data": {
      "text/plain": [
       "2"
      ]
     },
     "execution_count": 8,
     "metadata": {},
     "output_type": "execute_result"
    }
   ],
   "source": [
    "dims.index(400)"
   ]
  },
  {
   "cell_type": "code",
   "execution_count": 9,
   "id": "4ceff55a-519d-4360-b008-a3e6f43bf7e2",
   "metadata": {},
   "outputs": [
    {
     "data": {
      "text/plain": [
       "1"
      ]
     },
     "execution_count": 9,
     "metadata": {},
     "output_type": "execute_result"
    }
   ],
   "source": [
    "dims.index(55)"
   ]
  },
  {
   "cell_type": "code",
   "execution_count": 10,
   "id": "7383b0f1-57d1-40b9-9d9a-c5c4273a35af",
   "metadata": {},
   "outputs": [
    {
     "data": {
      "text/plain": [
       "(1, 2, 3)"
      ]
     },
     "execution_count": 10,
     "metadata": {},
     "output_type": "execute_result"
    }
   ],
   "source": [
    "#writing over a tuple\n",
    "arr=(5,6,1)\n",
    "arr=(1,2,3)\n",
    "arr"
   ]
  },
  {
   "cell_type": "markdown",
   "id": "43b212f0-ef13-4030-a0a7-81da05aa4b0e",
   "metadata": {},
   "source": [
    "#### Sets: Unordered & Immutable\n",
    "Sets-> Unique Items & have no index<be>\n",
    "* All unordered sequences defined with curly braces like sets and dictionaries"
   ]
  },
  {
   "cell_type": "code",
   "execution_count": 11,
   "id": "0e951931-5fdf-46d0-9e0e-746775d19235",
   "metadata": {},
   "outputs": [
    {
     "data": {
      "text/plain": [
       "{1, 2, 3, 4, 5, 6, 7, 22, 33}"
      ]
     },
     "execution_count": 11,
     "metadata": {},
     "output_type": "execute_result"
    }
   ],
   "source": [
    "set={1,22,33,2,2,2,3,3,3,4,5,6,7}\n",
    "set"
   ]
  },
  {
   "cell_type": "code",
   "execution_count": 13,
   "id": "8d934206-1489-4e18-9244-9c5680474e3d",
   "metadata": {},
   "outputs": [
    {
     "data": {
      "text/plain": [
       "{1, 2, 3, 4, 5, 6, 7, 22, 33, 88}"
      ]
     },
     "execution_count": 13,
     "metadata": {},
     "output_type": "execute_result"
    }
   ],
   "source": [
    "set.add(88)\n",
    "set"
   ]
  },
  {
   "cell_type": "code",
   "execution_count": 14,
   "id": "3c624e4d-4587-4b8c-b480-21808f9d4b4c",
   "metadata": {},
   "outputs": [],
   "source": [
    "A={1,2,3,4,5,6}\n",
    "B={2,5,7,8,9,6,1}"
   ]
  },
  {
   "cell_type": "code",
   "execution_count": 16,
   "id": "e4eb3046-5b9c-4f5c-b17b-999a84c546a8",
   "metadata": {},
   "outputs": [
    {
     "name": "stdout",
     "output_type": "stream",
     "text": [
      "{1, 2, 3, 4, 5, 6, 7, 8, 9}\n",
      "{1, 2, 3, 4, 5, 6, 7, 8, 9}\n"
     ]
    }
   ],
   "source": [
    "print(A|B)\n",
    "print(A.union(B))"
   ]
  },
  {
   "cell_type": "code",
   "execution_count": 17,
   "id": "2be8a155-e285-4cd5-b654-3c4d6b02457f",
   "metadata": {},
   "outputs": [
    {
     "name": "stdout",
     "output_type": "stream",
     "text": [
      "{1, 2, 5, 6}\n",
      "{1, 2, 5, 6}\n"
     ]
    }
   ],
   "source": [
    "print(A&B)\n",
    "print(A.intersection(B))"
   ]
  },
  {
   "cell_type": "code",
   "execution_count": 18,
   "id": "71802bde-cea6-4981-aa9d-b6d1215bb8c6",
   "metadata": {},
   "outputs": [
    {
     "name": "stdout",
     "output_type": "stream",
     "text": [
      "{3, 4}\n",
      "{3, 4}\n"
     ]
    }
   ],
   "source": [
    "print(A-B)\n",
    "print(A.difference(B))"
   ]
  },
  {
   "cell_type": "code",
   "execution_count": 20,
   "id": "dbbe8e7a-7d9d-451a-a516-34a45f1b17c4",
   "metadata": {},
   "outputs": [
    {
     "name": "stdout",
     "output_type": "stream",
     "text": [
      "{3, 4, 7, 8, 9}\n",
      "{3, 4, 7, 8, 9}\n"
     ]
    }
   ],
   "source": [
    "print(A^B)\n",
    "print(A.symmetric_difference(B))"
   ]
  },
  {
   "cell_type": "markdown",
   "id": "74d2fd6c-3ad6-466c-8b11-dfebf42b2b8c",
   "metadata": {},
   "source": [
    "#### Dictionaries: Unordered & Mutable"
   ]
  },
  {
   "cell_type": "code",
   "execution_count": 22,
   "id": "6eeced12-b2e6-4524-8e45-ddad1dc45278",
   "metadata": {},
   "outputs": [],
   "source": [
    "human={\"hieght\":180,\"width\":80,\"color\":'white'}"
   ]
  },
  {
   "cell_type": "code",
   "execution_count": 23,
   "id": "6cbcded4-492b-4f39-8bf3-90bad4d65360",
   "metadata": {},
   "outputs": [
    {
     "data": {
      "text/plain": [
       "['__class__',\n",
       " '__class_getitem__',\n",
       " '__contains__',\n",
       " '__delattr__',\n",
       " '__delitem__',\n",
       " '__dir__',\n",
       " '__doc__',\n",
       " '__eq__',\n",
       " '__format__',\n",
       " '__ge__',\n",
       " '__getattribute__',\n",
       " '__getitem__',\n",
       " '__getstate__',\n",
       " '__gt__',\n",
       " '__hash__',\n",
       " '__init__',\n",
       " '__init_subclass__',\n",
       " '__ior__',\n",
       " '__iter__',\n",
       " '__le__',\n",
       " '__len__',\n",
       " '__lt__',\n",
       " '__ne__',\n",
       " '__new__',\n",
       " '__or__',\n",
       " '__reduce__',\n",
       " '__reduce_ex__',\n",
       " '__repr__',\n",
       " '__reversed__',\n",
       " '__ror__',\n",
       " '__setattr__',\n",
       " '__setitem__',\n",
       " '__sizeof__',\n",
       " '__str__',\n",
       " '__subclasshook__',\n",
       " 'clear',\n",
       " 'copy',\n",
       " 'fromkeys',\n",
       " 'get',\n",
       " 'items',\n",
       " 'keys',\n",
       " 'pop',\n",
       " 'popitem',\n",
       " 'setdefault',\n",
       " 'update',\n",
       " 'values']"
      ]
     },
     "execution_count": 23,
     "metadata": {},
     "output_type": "execute_result"
    }
   ],
   "source": [
    "dir(human)"
   ]
  },
  {
   "cell_type": "code",
   "execution_count": 24,
   "id": "3125c57e-e8ce-4d37-9ad3-cf9c0fd24d1a",
   "metadata": {},
   "outputs": [
    {
     "data": {
      "text/plain": [
       "dict_values([180, 80, 'white'])"
      ]
     },
     "execution_count": 24,
     "metadata": {},
     "output_type": "execute_result"
    }
   ],
   "source": [
    "human.values()"
   ]
  },
  {
   "cell_type": "code",
   "execution_count": 25,
   "id": "59622513-44fa-480d-bc3e-cd19930298d4",
   "metadata": {},
   "outputs": [
    {
     "data": {
      "text/plain": [
       "dict_keys(['hieght', 'width', 'color'])"
      ]
     },
     "execution_count": 25,
     "metadata": {},
     "output_type": "execute_result"
    }
   ],
   "source": [
    "human.keys()"
   ]
  },
  {
   "cell_type": "code",
   "execution_count": 26,
   "id": "b5a03cad-7d72-418d-a8a1-1b73f2536fb7",
   "metadata": {},
   "outputs": [
    {
     "data": {
      "text/plain": [
       "dict_items([('hieght', 180), ('width', 80), ('color', 'white')])"
      ]
     },
     "execution_count": 26,
     "metadata": {},
     "output_type": "execute_result"
    }
   ],
   "source": [
    "human.items()"
   ]
  },
  {
   "cell_type": "markdown",
   "id": "ce55ee3b-669f-4499-97b1-9aecf1a04acc",
   "metadata": {},
   "source": [
    "### Let's take deeper look with strings"
   ]
  },
  {
   "cell_type": "code",
   "execution_count": 27,
   "id": "6a27d130-6648-4059-a294-7c46634697d5",
   "metadata": {},
   "outputs": [
    {
     "data": {
      "text/plain": [
       "'my age is 22, my gender is male'"
      ]
     },
     "execution_count": 27,
     "metadata": {},
     "output_type": "execute_result"
    }
   ],
   "source": [
    "'my age is {}, my gender is {}'.format(22,'male')"
   ]
  },
  {
   "cell_type": "code",
   "execution_count": 28,
   "id": "bf26bffd-6bcc-4a8a-892d-390d12821a18",
   "metadata": {},
   "outputs": [
    {
     "data": {
      "text/plain": [
       "'my age is male, my gender is 22'"
      ]
     },
     "execution_count": 28,
     "metadata": {},
     "output_type": "execute_result"
    }
   ],
   "source": [
    "'my age is {1}, my gender is {0}'.format(22,'male')"
   ]
  },
  {
   "cell_type": "code",
   "execution_count": 30,
   "id": "6d920b01-27ba-4d17-ab76-810fa1962974",
   "metadata": {},
   "outputs": [
    {
     "data": {
      "text/plain": [
       "'my age is male, my gender is male'"
      ]
     },
     "execution_count": 30,
     "metadata": {},
     "output_type": "execute_result"
    }
   ],
   "source": [
    "'my age is {b}, my gender is {b}'.format(a=22,b='male')"
   ]
  },
  {
   "cell_type": "code",
   "execution_count": 38,
   "id": "942950dc-57a1-4797-ba6c-3f3af938b1fb",
   "metadata": {},
   "outputs": [
    {
     "data": {
      "text/plain": [
       "'my age is l, my gender is 22'"
      ]
     },
     "execution_count": 38,
     "metadata": {},
     "output_type": "execute_result"
    }
   ],
   "source": [
    "'my age is {b[2]}, my gender is {a}'.format(a=22,b='male')\n"
   ]
  },
  {
   "cell_type": "code",
   "execution_count": 43,
   "id": "e6de7f68-6916-4f05-8edb-b5f4aa972d06",
   "metadata": {},
   "outputs": [
    {
     "data": {
      "text/plain": [
       "\"my age is 22, my gender is 'Pyth\\\\xf6n'\""
      ]
     },
     "execution_count": 43,
     "metadata": {},
     "output_type": "execute_result"
    }
   ],
   "source": [
    "# replacement fields with conversion: 'r' [repr()], 's' [str()] or 'a' [ascii()]\n",
    "'my age is {a}, my gender is {b!a}'.format(a=22,b='Pythön')"
   ]
  },
  {
   "cell_type": "code",
   "execution_count": 44,
   "id": "7e382c19-ee20-4fcf-9de4-940140b73fcf",
   "metadata": {},
   "outputs": [
    {
     "data": {
      "text/plain": [
       "'The value of pi is: 3.142'"
      ]
     },
     "execution_count": 44,
     "metadata": {},
     "output_type": "execute_result"
    }
   ],
   "source": [
    "# replacement fields with format specification\n",
    "# float precision\n",
    "'The value of pi is: {0:.3f}'.format(3.14159265)"
   ]
  },
  {
   "cell_type": "code",
   "execution_count": 47,
   "id": "7d180c8d-35f0-49f7-aef4-0c6e9245b062",
   "metadata": {},
   "outputs": [
    {
     "data": {
      "text/plain": [
       "'we can also zero-pad integers like this: 000200'"
      ]
     },
     "execution_count": 47,
     "metadata": {},
     "output_type": "execute_result"
    }
   ],
   "source": [
    "# replacement fields with format specification\n",
    "# float precision\n",
    "'we can also zero-pad integers like this: {:06}'.format(200)"
   ]
  },
  {
   "cell_type": "code",
   "execution_count": 48,
   "id": "f6943c6b-85e4-48a2-8151-063318724747",
   "metadata": {},
   "outputs": [
    {
     "data": {
      "text/plain": [
       "'My name is saif, I am 22'"
      ]
     },
     "execution_count": 48,
     "metadata": {},
     "output_type": "execute_result"
    }
   ],
   "source": [
    "name = 'saif'\n",
    "age = 22\n",
    "\n",
    "txt1 = f\"My name is {name}, I am {age}\"\n",
    "txt1"
   ]
  },
  {
   "cell_type": "code",
   "execution_count": 49,
   "id": "54d5df53-0da1-4201-806e-b2747c6fe7ac",
   "metadata": {},
   "outputs": [
    {
     "data": {
      "text/plain": [
       "'010'"
      ]
     },
     "execution_count": 49,
     "metadata": {},
     "output_type": "execute_result"
    }
   ],
   "source": [
    "f'{10:03d}' # int"
   ]
  },
  {
   "cell_type": "code",
   "execution_count": 52,
   "id": "2029deff-a236-41e3-98bf-6b58a183beef",
   "metadata": {},
   "outputs": [
    {
     "data": {
      "text/plain": [
       "'17.5'"
      ]
     },
     "execution_count": 52,
     "metadata": {},
     "output_type": "execute_result"
    }
   ],
   "source": [
    "f'{17.489:.1f}' # float"
   ]
  },
  {
   "cell_type": "code",
   "execution_count": 54,
   "id": "7224558e-2227-4ece-81e5-de6bd27865d1",
   "metadata": {},
   "outputs": [
    {
     "data": {
      "text/plain": [
       "'B b'"
      ]
     },
     "execution_count": 54,
     "metadata": {},
     "output_type": "execute_result"
    }
   ],
   "source": [
    "f'{66:c} {98:c}' # chr"
   ]
  },
  {
   "cell_type": "markdown",
   "id": "2f1776ef-a351-46e2-ac6f-5994fa86872f",
   "metadata": {},
   "source": [
    "### Splitting and Joining String"
   ]
  },
  {
   "cell_type": "code",
   "execution_count": 57,
   "id": "0e2f7848-77b4-48f5-9e08-5324ef1ae9fa",
   "metadata": {},
   "outputs": [
    {
     "data": {
      "text/plain": [
       "['My',\n",
       " 'favourites',\n",
       " 'hobbies',\n",
       " 'are',\n",
       " 'chess,',\n",
       " 'estimation,',\n",
       " 'reading',\n",
       " 'and',\n",
       " 'vlogging']"
      ]
     },
     "execution_count": 57,
     "metadata": {},
     "output_type": "execute_result"
    }
   ],
   "source": [
    "# str split() method\n",
    "some_text = \"My favourites hobbies are chess, estimation, reading and vlogging\"\n",
    "splitted_text = some_text.split(' ')\n",
    "splitted_text"
   ]
  },
  {
   "cell_type": "code",
   "execution_count": 58,
   "id": "ddb54210-28b5-415a-be0a-2b7faa1829e9",
   "metadata": {},
   "outputs": [
    {
     "data": {
      "text/plain": [
       "'This is line 1\\nThis is line2\\nThis is line3'"
      ]
     },
     "execution_count": 58,
     "metadata": {},
     "output_type": "execute_result"
    }
   ],
   "source": [
    "lines = \"\"\"This is line 1\n",
    "This is line2\n",
    "This is line3\"\"\"\n",
    "lines"
   ]
  },
  {
   "cell_type": "code",
   "execution_count": 59,
   "id": "4567aae9-ec9d-49df-8754-7e06ea4c89e0",
   "metadata": {},
   "outputs": [
    {
     "data": {
      "text/plain": [
       "['This is line 1', 'This is line2', 'This is line3']"
      ]
     },
     "execution_count": 59,
     "metadata": {},
     "output_type": "execute_result"
    }
   ],
   "source": [
    "lines.splitlines()"
   ]
  },
  {
   "cell_type": "code",
   "execution_count": 61,
   "id": "a5f84d4a-f793-4b48-95d5-b94f10771189",
   "metadata": {},
   "outputs": [
    {
     "data": {
      "text/plain": [
       "['This is line 1\\n', 'This is line2\\n', 'This is line3']"
      ]
     },
     "execution_count": 61,
     "metadata": {},
     "output_type": "execute_result"
    }
   ],
   "source": [
    "lines.splitlines(True) # to keep the line breaks"
   ]
  },
  {
   "cell_type": "code",
   "execution_count": 62,
   "id": "088c9456-4718-4982-9171-896240d17cb6",
   "metadata": {},
   "outputs": [
    {
     "data": {
      "text/plain": [
       "'chess_estimation_computers_reading_handball_smoking'"
      ]
     },
     "execution_count": 62,
     "metadata": {},
     "output_type": "execute_result"
    }
   ],
   "source": [
    "# str join text \n",
    "text_list = ['chess', 'estimation', 'computers', 'reading', 'handball', 'smoking']\n",
    "'_'.join(text_list)"
   ]
  },
  {
   "cell_type": "code",
   "execution_count": 66,
   "id": "ec1c7c59-f752-4f18-86a5-5ee0b57a837c",
   "metadata": {},
   "outputs": [
    {
     "name": "stdout",
     "output_type": "stream",
     "text": [
      "('Amanda', ':', ' 89, 97, 92 and also mike: 30, 11')\n"
     ]
    }
   ],
   "source": [
    "# partition() divides string at first occurence of a char\n",
    "# thus returns a tuple\n",
    "print('Amanda: 89, 97, 92 and also mike: 30, 11'.partition(':'))"
   ]
  },
  {
   "cell_type": "markdown",
   "id": "2e088a01-b1c8-4a69-bb6f-97950b2cf6a0",
   "metadata": {},
   "source": [
    "### Character Checks"
   ]
  },
  {
   "cell_type": "code",
   "execution_count": 67,
   "id": "d2999aac-3597-4915-ba0d-96f8ce933ab8",
   "metadata": {},
   "outputs": [
    {
     "data": {
      "text/plain": [
       "False"
      ]
     },
     "execution_count": 67,
     "metadata": {},
     "output_type": "execute_result"
    }
   ],
   "source": [
    "'-55'.isdigit()"
   ]
  },
  {
   "cell_type": "code",
   "execution_count": 68,
   "id": "73cdf78a-a4f5-420a-8c50-a951731d01bb",
   "metadata": {},
   "outputs": [
    {
     "data": {
      "text/plain": [
       "True"
      ]
     },
     "execution_count": 68,
     "metadata": {},
     "output_type": "execute_result"
    }
   ],
   "source": [
    "'55'.isdigit()\n"
   ]
  },
  {
   "cell_type": "code",
   "execution_count": 69,
   "id": "fe50ea4a-5a70-49e8-9200-4362f9a7303f",
   "metadata": {},
   "outputs": [
    {
     "data": {
      "text/plain": [
       "True"
      ]
     },
     "execution_count": 69,
     "metadata": {},
     "output_type": "execute_result"
    }
   ],
   "source": [
    "'s88'.isalnum()"
   ]
  },
  {
   "cell_type": "code",
   "execution_count": 70,
   "id": "b048f808-f3f7-4e40-889f-6b35564d429e",
   "metadata": {},
   "outputs": [
    {
     "data": {
      "text/plain": [
       "False"
      ]
     },
     "execution_count": 70,
     "metadata": {},
     "output_type": "execute_result"
    }
   ],
   "source": [
    "'123 Main Street'.isalnum()"
   ]
  },
  {
   "cell_type": "markdown",
   "id": "e5ebfb6c-e32b-492e-8cbc-341e5c8ce466",
   "metadata": {},
   "source": [
    "### Raw String"
   ]
  },
  {
   "cell_type": "code",
   "execution_count": 73,
   "id": "7dba995e-d2e1-4397-9803-c81fa2e6eb87",
   "metadata": {},
   "outputs": [],
   "source": [
    "file_path = 'C:\\\\MyFolder\\\\MySubFolder\\\\MyFile.txt'"
   ]
  },
  {
   "cell_type": "code",
   "execution_count": 74,
   "id": "e5fe4b83-d753-4ff0-b1a5-dc65fac96387",
   "metadata": {},
   "outputs": [
    {
     "data": {
      "text/plain": [
       "'C:\\\\MyFolder\\\\MySubFolder\\\\MyFile.txt'"
      ]
     },
     "execution_count": 74,
     "metadata": {},
     "output_type": "execute_result"
    }
   ],
   "source": [
    "file_path"
   ]
  },
  {
   "cell_type": "code",
   "execution_count": 75,
   "id": "52d15b33-319c-4bbb-a1b7-49a92b2eaf82",
   "metadata": {},
   "outputs": [
    {
     "name": "stdout",
     "output_type": "stream",
     "text": [
      "C:\\MyFolder\\MySubFolder\\MyFile.txt\n"
     ]
    }
   ],
   "source": [
    "print(file_path)"
   ]
  },
  {
   "cell_type": "code",
   "execution_count": 76,
   "id": "4f24e253-f813-4ed3-adc5-bbc09925ee96",
   "metadata": {},
   "outputs": [],
   "source": [
    "file_path = r'C:\\\\MyFolder\\\\MySubFolder\\\\MyFile.txt'"
   ]
  },
  {
   "cell_type": "code",
   "execution_count": 77,
   "id": "6e166c1e-8d7f-4892-8c39-1b4e791eb40d",
   "metadata": {},
   "outputs": [
    {
     "name": "stdout",
     "output_type": "stream",
     "text": [
      "C:\\\\MyFolder\\\\MySubFolder\\\\MyFile.txt\n"
     ]
    }
   ],
   "source": [
    "print(file_path)"
   ]
  },
  {
   "cell_type": "markdown",
   "id": "6465a6ea-698e-47e5-9b16-40a40da0ada5",
   "metadata": {},
   "source": [
    "### If and Elif"
   ]
  },
  {
   "cell_type": "code",
   "execution_count": 80,
   "id": "1155fe1f-56ed-4343-b796-5437cab3ba73",
   "metadata": {},
   "outputs": [
    {
     "name": "stdin",
     "output_type": "stream",
     "text": [
      "Enta mneen yaad? egypt\n",
      "Enta ragel yaad? male\n"
     ]
    },
    {
     "name": "stdout",
     "output_type": "stream",
     "text": [
      "Ahlan beek\n"
     ]
    }
   ],
   "source": [
    "# try flags\n",
    "\n",
    "country = input('Enta mneen yaad?')\n",
    "gender = input('Enta ragel yaad?')\n",
    "\n",
    "flags = ''\n",
    "\n",
    "if country.lower() == 'egypt':\n",
    "    flags += 'p'\n",
    "#    print (flags)\n",
    "if gender.lower() == 'male':\n",
    "    flags += 'm'\n",
    "#    print (flags)\n",
    "else:\n",
    "    flags += 'f'\n",
    "\n",
    "if flags == 'pm':\n",
    "    print ('Ahlan beek')\n",
    "else:\n",
    "    print ('Ahlan beeky')\n"
   ]
  },
  {
   "cell_type": "code",
   "execution_count": 81,
   "id": "fa3124dc-fe1f-4e65-9646-953598917171",
   "metadata": {},
   "outputs": [
    {
     "name": "stdout",
     "output_type": "stream",
     "text": [
      "B\n"
     ]
    }
   ],
   "source": [
    "grade = 80\n",
    "\n",
    "if grade >= 90:\n",
    "    print('A')\n",
    "elif grade >= 80:\n",
    "    print('B')\n",
    "elif grade >= 70:\n",
    "    print('C')\n",
    "elif grade >= 60:\n",
    "    print('D')\n",
    "else:\n",
    "    print('F')"
   ]
  },
  {
   "cell_type": "code",
   "execution_count": 84,
   "id": "8325939f-29f1-4cd5-ac59-974a8212600d",
   "metadata": {},
   "outputs": [
    {
     "data": {
      "text/plain": [
       "'C'"
      ]
     },
     "execution_count": 84,
     "metadata": {},
     "output_type": "execute_result"
    }
   ],
   "source": [
    "grade=75\n",
    "'A' if grade>=90 else('B' if grade>=80 else('C' if grade>=70 else('D' if grade >=60 else 'F')))"
   ]
  },
  {
   "cell_type": "code",
   "execution_count": 86,
   "id": "26744735-f118-4936-b346-14b8eb30fdf3",
   "metadata": {},
   "outputs": [
    {
     "data": {
      "text/plain": [
       "[1, 20, 3, 40, 5, 60, 7, 80, 9, 100, 11, 120, 13, 140]"
      ]
     },
     "execution_count": 86,
     "metadata": {},
     "output_type": "execute_result"
    }
   ],
   "source": [
    "# list comprehensions with for loops\n",
    "l=[i*10 if i%2==0 else i for i in range(1,15)]\n",
    "l"
   ]
  },
  {
   "cell_type": "code",
   "execution_count": 87,
   "id": "d721dc2e-cced-4c0d-8fb5-cf7f724e23dc",
   "metadata": {},
   "outputs": [],
   "source": [
    "# pass statement\n",
    "# to change the if stmnt later\n",
    "\n",
    "if True:\n",
    "    pass"
   ]
  },
  {
   "cell_type": "markdown",
   "id": "4f2bc4ff-6752-4051-9e43-0ec4b8c476c6",
   "metadata": {},
   "source": [
    "### `for` and `while` Loops"
   ]
  },
  {
   "cell_type": "code",
   "execution_count": 89,
   "id": "88273e60-0c4a-4aa4-b019-c5aa491bd1e2",
   "metadata": {},
   "outputs": [
    {
     "name": "stdout",
     "output_type": "stream",
     "text": [
      "2 is a prime number\n",
      "3 is a prime number\n",
      "4 equals 2 * 2\n",
      "5 is a prime number\n",
      "6 equals 2 * 3\n",
      "7 is a prime number\n",
      "8 equals 2 * 4\n",
      "9 equals 3 * 3\n"
     ]
    }
   ],
   "source": [
    "# nested for with if\n",
    "# prime numbers\n",
    "\n",
    "for n in range(2, 10):\n",
    "    for x in range(2, n):\n",
    "        if n % x == 0:\n",
    "            print(n, 'equals', x, '*', n // x)\n",
    "            break\n",
    "    else:\n",
    "        # loop fell through without finding a factor\n",
    "        print(n, 'is a prime number')"
   ]
  },
  {
   "cell_type": "code",
   "execution_count": 90,
   "id": "72044471-a6c4-4009-a652-9ad6d1e0cd35",
   "metadata": {},
   "outputs": [
    {
     "name": "stdout",
     "output_type": "stream",
     "text": [
      "1 is odd\n",
      "2 is even\n",
      "3 is odd\n",
      "4 is even\n",
      "5 is odd\n",
      "6 is even\n",
      "7 is odd\n",
      "8 is even\n",
      "9 is odd\n",
      "10 is even\n",
      "11 is odd\n",
      "12 is even\n",
      "13 is odd\n",
      "14 is even\n",
      "15 is odd\n",
      "16 is even\n",
      "17 is odd\n",
      "18 is even\n",
      "19 is odd\n",
      "20 is even\n",
      "21 is odd\n"
     ]
    }
   ],
   "source": [
    "# continue statement\n",
    "# range()\n",
    "for counter in range(1,22):\n",
    "    if counter % 2 == 0:\n",
    "        print(f'{counter} is even')\n",
    "    else:\n",
    "        print(f'{counter} is odd')"
   ]
  },
  {
   "cell_type": "code",
   "execution_count": 91,
   "id": "31a41b13-099c-40e7-a90e-a9d074e41dad",
   "metadata": {},
   "outputs": [
    {
     "name": "stdout",
     "output_type": "stream",
     "text": [
      "1 is odd\n",
      "2 is even\n",
      "3 is odd\n",
      "4 is even\n",
      "5 is odd\n",
      "6 is even\n",
      "7 is odd\n",
      "8 is even\n",
      "9 is odd\n",
      "10 is even\n",
      "11 is odd\n",
      "12 is even\n",
      "13 is odd\n",
      "14 is even\n",
      "15 is odd\n",
      "16 is even\n",
      "17 is odd\n",
      "18 is even\n",
      "19 is odd\n",
      "20 is even\n",
      "21 is odd\n"
     ]
    }
   ],
   "source": [
    "for counter in range(1,22):\n",
    "    if counter % 2 == 0:\n",
    "        print(f'{counter} is even')\n",
    "        continue\n",
    "    print(f'{counter} is odd')"
   ]
  },
  {
   "cell_type": "code",
   "execution_count": 92,
   "id": "ff82fd70-ba19-4dc5-82d5-bbf2dbc718dd",
   "metadata": {},
   "outputs": [
    {
     "name": "stdin",
     "output_type": "stream",
     "text": [
      "type a number:  55\n"
     ]
    },
    {
     "name": "stdout",
     "output_type": "stream",
     "text": [
      "Finally! the square root of the number you entered is 7.4162\n"
     ]
    }
   ],
   "source": [
    "# combine while and if\n",
    "# why use a break statement?\n",
    "\n",
    "#user_input = ''\n",
    "retries = 1\n",
    "\n",
    "while True:\n",
    "    user_input = input('type a number: ')\n",
    "    if not user_input.isdigit():\n",
    "        retries += 1\n",
    "    else:\n",
    "        print(\n",
    "            f'Finally! the square root of the number you entered is {(int(user_input)**(1/2)):.4f}'\n",
    "        )\n",
    "        break\n",
    "\n",
    "if retries > 2:\n",
    "    print('rabbena yehdeek')"
   ]
  },
  {
   "cell_type": "markdown",
   "id": "ad86b6fe-77b6-4fde-b726-dc48e4fd843b",
   "metadata": {},
   "source": [
    "### Example: Word Count"
   ]
  },
  {
   "cell_type": "code",
   "execution_count": 93,
   "id": "9207610f-3b2f-41ff-8498-6875a1541fae",
   "metadata": {},
   "outputs": [
    {
     "data": {
      "text/plain": [
       "'this is sample text with several words this is more sample text with some different words that is also another text with other different words'"
      ]
     },
     "execution_count": 93,
     "metadata": {},
     "output_type": "execute_result"
    }
   ],
   "source": [
    "text = ('this is sample text with several words '\n",
    "        'this is more sample text with some different words '\n",
    "        'that is also another text with other different words'\n",
    "       )\n",
    "text"
   ]
  },
  {
   "cell_type": "code",
   "execution_count": 94,
   "id": "e1def736-7999-4042-8463-63bdb128bac2",
   "metadata": {},
   "outputs": [
    {
     "data": {
      "text/plain": [
       "['this',\n",
       " 'is',\n",
       " 'sample',\n",
       " 'text',\n",
       " 'with',\n",
       " 'several',\n",
       " 'words',\n",
       " 'this',\n",
       " 'is',\n",
       " 'more',\n",
       " 'sample',\n",
       " 'text',\n",
       " 'with',\n",
       " 'some',\n",
       " 'different',\n",
       " 'words',\n",
       " 'that',\n",
       " 'is',\n",
       " 'also',\n",
       " 'another',\n",
       " 'text',\n",
       " 'with',\n",
       " 'other',\n",
       " 'different',\n",
       " 'words']"
      ]
     },
     "execution_count": 94,
     "metadata": {},
     "output_type": "execute_result"
    }
   ],
   "source": [
    "text.split()"
   ]
  },
  {
   "cell_type": "code",
   "execution_count": 99,
   "id": "f4aa45f1-57c0-4825-a4a3-3573d52534fe",
   "metadata": {},
   "outputs": [],
   "source": [
    "word_counts ={}"
   ]
  },
  {
   "cell_type": "code",
   "execution_count": 100,
   "id": "70ee42d2-091d-4c71-8939-56b51fb9c647",
   "metadata": {},
   "outputs": [
    {
     "name": "stdout",
     "output_type": "stream",
     "text": [
      "{'this': 1}\n"
     ]
    }
   ],
   "source": [
    "word='this'\n",
    "if word in word_counts:\n",
    "    word_counts[word]+=1\n",
    "else:\n",
    "    word_counts[word]=1\n",
    "print(word_counts)"
   ]
  },
  {
   "cell_type": "code",
   "execution_count": 101,
   "id": "b07a555a-318d-4cc5-94de-89aebdeb7a42",
   "metadata": {},
   "outputs": [
    {
     "name": "stdout",
     "output_type": "stream",
     "text": [
      "{'this': 3, 'is': 3, 'sample': 2, 'text': 3, 'with': 3, 'several': 1, 'words': 3, 'more': 1, 'some': 1, 'different': 2, 'that': 1, 'also': 1, 'another': 1, 'other': 1}\n"
     ]
    }
   ],
   "source": [
    "for word in text.split():\n",
    "    if word in word_counts:\n",
    "        word_counts[word]+=1\n",
    "    else:\n",
    "        word_counts[word]=1\n",
    "print(word_counts)"
   ]
  },
  {
   "cell_type": "code",
   "execution_count": 105,
   "id": "c040f8c5-18e0-4c01-8f23-7e84e4199777",
   "metadata": {},
   "outputs": [
    {
     "name": "stdout",
     "output_type": "stream",
     "text": [
      "this      :3\n",
      "is        :3\n",
      "sample    :2\n",
      "text      :3\n",
      "with      :3\n",
      "several   :1\n",
      "words     :3\n",
      "more      :1\n",
      "some      :1\n",
      "different :2\n",
      "that      :1\n",
      "also      :1\n",
      "another   :1\n",
      "other     :1\n"
     ]
    }
   ],
   "source": [
    "for word, count in word_counts.items():\n",
    "    print(f'{word:<10}:{count}')\n",
    "    "
   ]
  },
  {
   "cell_type": "code",
   "execution_count": null,
   "id": "560abcae-0b32-40dd-b05a-9f7ba97a54a2",
   "metadata": {},
   "outputs": [],
   "source": []
  }
 ],
 "metadata": {
  "kernelspec": {
   "display_name": "Python 3 (ipykernel)",
   "language": "python",
   "name": "python3"
  },
  "language_info": {
   "codemirror_mode": {
    "name": "ipython",
    "version": 3
   },
   "file_extension": ".py",
   "mimetype": "text/x-python",
   "name": "python",
   "nbconvert_exporter": "python",
   "pygments_lexer": "ipython3",
   "version": "3.11.2"
  }
 },
 "nbformat": 4,
 "nbformat_minor": 5
}
