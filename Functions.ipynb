{
 "cells": [
  {
   "cell_type": "code",
   "execution_count": 1,
   "id": "c1f49466-6576-4e9f-8629-500e6a4ca9f0",
   "metadata": {},
   "outputs": [],
   "source": [
    "def greeting():\n",
    "    name = input('What is your name?')\n",
    "    print(f'Welcome to Python {name}')"
   ]
  },
  {
   "cell_type": "code",
   "execution_count": 2,
   "id": "c876da8f-e325-44d6-8728-350ada28c702",
   "metadata": {},
   "outputs": [
    {
     "name": "stdin",
     "output_type": "stream",
     "text": [
      "What is your name? saif\n"
     ]
    },
    {
     "name": "stdout",
     "output_type": "stream",
     "text": [
      "Welcome to Python saif\n"
     ]
    }
   ],
   "source": [
    "greeting()"
   ]
  },
  {
   "cell_type": "code",
   "execution_count": 3,
   "id": "5c40fccc-36f4-4793-96e4-9303b1d186af",
   "metadata": {},
   "outputs": [],
   "source": [
    "def greeting(name):\n",
    "    print(f'Welcome to Python {name}')"
   ]
  },
  {
   "cell_type": "code",
   "execution_count": 4,
   "id": "57cc0c52-623c-4a5d-acc5-51ae83233859",
   "metadata": {},
   "outputs": [
    {
     "name": "stdout",
     "output_type": "stream",
     "text": [
      "Welcome to Python saif\n"
     ]
    }
   ],
   "source": [
    "greeting('saif')"
   ]
  },
  {
   "cell_type": "code",
   "execution_count": 5,
   "id": "a2977afe-ed9c-495f-970b-0df12ff885ac",
   "metadata": {},
   "outputs": [],
   "source": [
    "def greeting(name, age):\n",
    "    print(f'Welcome to Python {name}, {age}')"
   ]
  },
  {
   "cell_type": "code",
   "execution_count": 6,
   "id": "4ccb0b94-4e98-4946-a04f-3bf9ca349464",
   "metadata": {},
   "outputs": [
    {
     "name": "stdout",
     "output_type": "stream",
     "text": [
      "Welcome to Python saif, 22\n"
     ]
    }
   ],
   "source": [
    "greeting('saif', 22)"
   ]
  },
  {
   "cell_type": "code",
   "execution_count": 7,
   "id": "02cbca09-f7b5-485f-a28c-dc49cb76d2db",
   "metadata": {},
   "outputs": [
    {
     "name": "stdout",
     "output_type": "stream",
     "text": [
      "Welcome to Python 22, saif\n"
     ]
    }
   ],
   "source": [
    "greeting(22, 'saif')"
   ]
  },
  {
   "cell_type": "code",
   "execution_count": 8,
   "id": "3c3fc740-0e4f-4ef4-9e97-8e1089a0452c",
   "metadata": {},
   "outputs": [
    {
     "name": "stdout",
     "output_type": "stream",
     "text": [
      "Welcome to Python saif, 22\n"
     ]
    }
   ],
   "source": [
    "greeting(age=22, name='saif')"
   ]
  },
  {
   "cell_type": "code",
   "execution_count": 9,
   "id": "f419ee05-7dcd-4073-a11a-6a59bf9e93d9",
   "metadata": {},
   "outputs": [
    {
     "ename": "TypeError",
     "evalue": "greeting() missing 1 required positional argument: 'age'",
     "output_type": "error",
     "traceback": [
      "\u001b[1;31m---------------------------------------------------------------------------\u001b[0m",
      "\u001b[1;31mTypeError\u001b[0m                                 Traceback (most recent call last)",
      "Cell \u001b[1;32mIn[9], line 1\u001b[0m\n\u001b[1;32m----> 1\u001b[0m \u001b[43mgreeting\u001b[49m\u001b[43m(\u001b[49m\u001b[38;5;124;43m'\u001b[39;49m\u001b[38;5;124;43msaif\u001b[39;49m\u001b[38;5;124;43m'\u001b[39;49m\u001b[43m)\u001b[49m  \u001b[38;5;66;03m#error\u001b[39;00m\n",
      "\u001b[1;31mTypeError\u001b[0m: greeting() missing 1 required positional argument: 'age'"
     ]
    }
   ],
   "source": [
    "greeting('saif')  #error"
   ]
  },
  {
   "cell_type": "code",
   "execution_count": 10,
   "id": "0716717a-e1d8-4f1a-baa7-1c56e987b27f",
   "metadata": {},
   "outputs": [],
   "source": [
    "def pets(owner_name, pet_name = 'sultan'):\n",
    "    print(f'Hi {owner_name.title()} please take care of {pet_name.title()}!')"
   ]
  },
  {
   "cell_type": "code",
   "execution_count": 11,
   "id": "52c2f9cb-b343-4e37-a8f0-f0d7855ea497",
   "metadata": {},
   "outputs": [
    {
     "name": "stdout",
     "output_type": "stream",
     "text": [
      "Hi Saif please take care of Sultan!\n"
     ]
    }
   ],
   "source": [
    "pets('saif')"
   ]
  },
  {
   "cell_type": "code",
   "execution_count": 12,
   "id": "292ea7a4-26a5-4b03-95ed-880454ad7197",
   "metadata": {},
   "outputs": [],
   "source": [
    "def pets(owner_name = 'ahmed', pet_name = 'sultan'):\n",
    "    advice = f'Hi {owner_name.title()} please take care of {pet_name.title()}!'\n",
    "    return advice"
   ]
  },
  {
   "cell_type": "code",
   "execution_count": 14,
   "id": "7256babe-2000-4fcb-bf48-46f08d171c08",
   "metadata": {},
   "outputs": [
    {
     "data": {
      "text/plain": [
       "function"
      ]
     },
     "execution_count": 14,
     "metadata": {},
     "output_type": "execute_result"
    }
   ],
   "source": [
    "type(pets)"
   ]
  },
  {
   "cell_type": "code",
   "execution_count": 19,
   "id": "5117a117-f68c-412c-83c2-49b5487a9424",
   "metadata": {},
   "outputs": [],
   "source": [
    "## optional arguments must be defaulted and be last arg in list and the fun body must have if statement\n",
    "def full_name(fname,lname,mname=''):\n",
    "    \"\"\"prints out a fullname for a given triplet firstname, middlename and last name\n",
    "    with an optional parameter 'middlename'\"\"\"\n",
    "    if mname:\n",
    "        fname =  f'Your full name is: {fname.title()} {mname.title()} {lname.title()}-'\n",
    "    else:\n",
    "        fname =  f'Your full name is: {fname.title()} {lname.title()}-'\n",
    "    return fname"
   ]
  },
  {
   "cell_type": "code",
   "execution_count": 18,
   "id": "ac27432d-a6b9-4ff6-af3e-97ef05d49f72",
   "metadata": {},
   "outputs": [
    {
     "data": {
      "text/plain": [
       "'Your full name is: Magnus Carlsen-'"
      ]
     },
     "execution_count": 18,
     "metadata": {},
     "output_type": "execute_result"
    }
   ],
   "source": [
    "full_name('magnus','carlsen')"
   ]
  },
  {
   "cell_type": "code",
   "execution_count": 20,
   "id": "f5d10f35-28b4-41fe-8e53-b16af812f6b2",
   "metadata": {},
   "outputs": [
    {
     "data": {
      "text/plain": [
       "\u001b[1;31mSignature:\u001b[0m \u001b[0mfull_name\u001b[0m\u001b[1;33m(\u001b[0m\u001b[0mfname\u001b[0m\u001b[1;33m,\u001b[0m \u001b[0mlname\u001b[0m\u001b[1;33m,\u001b[0m \u001b[0mmname\u001b[0m\u001b[1;33m=\u001b[0m\u001b[1;34m''\u001b[0m\u001b[1;33m)\u001b[0m\u001b[1;33m\u001b[0m\u001b[1;33m\u001b[0m\u001b[0m\n",
       "\u001b[1;31mDocstring:\u001b[0m\n",
       "prints out a fullname for a given triplet firstname, middlename and last name\n",
       "with an optional parameter 'middlename'\n",
       "\u001b[1;31mFile:\u001b[0m      c:\\users\\saif\\appdata\\local\\temp\\ipykernel_21084\\2105514119.py\n",
       "\u001b[1;31mType:\u001b[0m      function"
      ]
     },
     "metadata": {},
     "output_type": "display_data"
    }
   ],
   "source": [
    "#To get fun docstring\n",
    "full_name?"
   ]
  },
  {
   "cell_type": "code",
   "execution_count": 22,
   "id": "7e0faf0b-a341-4cf6-acfe-09512c18078f",
   "metadata": {},
   "outputs": [
    {
     "data": {
      "text/plain": [
       "\u001b[1;31mSignature:\u001b[0m \u001b[0mfull_name\u001b[0m\u001b[1;33m(\u001b[0m\u001b[0mfname\u001b[0m\u001b[1;33m,\u001b[0m \u001b[0mlname\u001b[0m\u001b[1;33m,\u001b[0m \u001b[0mmname\u001b[0m\u001b[1;33m=\u001b[0m\u001b[1;34m''\u001b[0m\u001b[1;33m)\u001b[0m\u001b[1;33m\u001b[0m\u001b[1;33m\u001b[0m\u001b[0m\n",
       "\u001b[1;31mSource:\u001b[0m   \n",
       "\u001b[1;32mdef\u001b[0m \u001b[0mfull_name\u001b[0m\u001b[1;33m(\u001b[0m\u001b[0mfname\u001b[0m\u001b[1;33m,\u001b[0m\u001b[0mlname\u001b[0m\u001b[1;33m,\u001b[0m\u001b[0mmname\u001b[0m\u001b[1;33m=\u001b[0m\u001b[1;34m''\u001b[0m\u001b[1;33m)\u001b[0m\u001b[1;33m:\u001b[0m\u001b[1;33m\n",
       "\u001b[0m    \u001b[1;34m\"\"\"prints out a fullname for a given triplet firstname, middlename and last name\n",
       "    with an optional parameter 'middlename'\"\"\"\u001b[0m\u001b[1;33m\n",
       "\u001b[0m    \u001b[1;32mif\u001b[0m \u001b[0mmname\u001b[0m\u001b[1;33m:\u001b[0m\u001b[1;33m\n",
       "\u001b[0m        \u001b[0mfname\u001b[0m \u001b[1;33m=\u001b[0m  \u001b[1;34mf'Your full name is: {fname.title()} {mname.title()} {lname.title()}-'\u001b[0m\u001b[1;33m\n",
       "\u001b[0m    \u001b[1;32melse\u001b[0m\u001b[1;33m:\u001b[0m\u001b[1;33m\n",
       "\u001b[0m        \u001b[0mfname\u001b[0m \u001b[1;33m=\u001b[0m  \u001b[1;34mf'Your full name is: {fname.title()} {lname.title()}-'\u001b[0m\u001b[1;33m\n",
       "\u001b[0m    \u001b[1;32mreturn\u001b[0m \u001b[0mfname\u001b[0m\u001b[1;33m\u001b[0m\u001b[1;33m\u001b[0m\u001b[0m\n",
       "\u001b[1;31mFile:\u001b[0m      c:\\users\\saif\\appdata\\local\\temp\\ipykernel_21084\\2105514119.py\n",
       "\u001b[1;31mType:\u001b[0m      function"
      ]
     },
     "metadata": {},
     "output_type": "display_data"
    }
   ],
   "source": [
    "#To get fun body\n",
    "full_name??"
   ]
  },
  {
   "cell_type": "code",
   "execution_count": 23,
   "id": "73549198-9686-4d11-8d9b-d74591a326d8",
   "metadata": {},
   "outputs": [
    {
     "data": {
      "text/plain": [
       "\u001b[1;31mSignature:\u001b[0m \u001b[0mprint\u001b[0m\u001b[1;33m(\u001b[0m\u001b[1;33m*\u001b[0m\u001b[0margs\u001b[0m\u001b[1;33m,\u001b[0m \u001b[0msep\u001b[0m\u001b[1;33m=\u001b[0m\u001b[1;34m' '\u001b[0m\u001b[1;33m,\u001b[0m \u001b[0mend\u001b[0m\u001b[1;33m=\u001b[0m\u001b[1;34m'\\n'\u001b[0m\u001b[1;33m,\u001b[0m \u001b[0mfile\u001b[0m\u001b[1;33m=\u001b[0m\u001b[1;32mNone\u001b[0m\u001b[1;33m,\u001b[0m \u001b[0mflush\u001b[0m\u001b[1;33m=\u001b[0m\u001b[1;32mFalse\u001b[0m\u001b[1;33m)\u001b[0m\u001b[1;33m\u001b[0m\u001b[1;33m\u001b[0m\u001b[0m\n",
       "\u001b[1;31mDocstring:\u001b[0m\n",
       "Prints the values to a stream, or to sys.stdout by default.\n",
       "\n",
       "sep\n",
       "  string inserted between values, default a space.\n",
       "end\n",
       "  string appended after the last value, default a newline.\n",
       "file\n",
       "  a file-like object (stream); defaults to the current sys.stdout.\n",
       "flush\n",
       "  whether to forcibly flush the stream.\n",
       "\u001b[1;31mType:\u001b[0m      builtin_function_or_method"
      ]
     },
     "metadata": {},
     "output_type": "display_data"
    }
   ],
   "source": [
    "print??"
   ]
  },
  {
   "cell_type": "code",
   "execution_count": 27,
   "id": "557393ef-03e4-4f71-9774-4c133e335db2",
   "metadata": {},
   "outputs": [],
   "source": [
    "def avg(*args):\n",
    "    avg=sum(args)/len(args)\n",
    "    print(avg)"
   ]
  },
  {
   "cell_type": "code",
   "execution_count": 28,
   "id": "1f245926-316c-4924-a7d6-15f53bd4f7f0",
   "metadata": {},
   "outputs": [
    {
     "name": "stdout",
     "output_type": "stream",
     "text": [
      "5.0\n"
     ]
    }
   ],
   "source": [
    "avg(5,5,5,5,5,5,5,5,5,5,5,5,5,5,5,5,5,5,5,5,5,5,5,5)"
   ]
  },
  {
   "cell_type": "markdown",
   "id": "c8e85da5-29ef-492d-a7a5-0d24536081d7",
   "metadata": {},
   "source": [
    "#### Keyword Variable-Length Arguments"
   ]
  },
  {
   "cell_type": "code",
   "execution_count": 29,
   "id": "0f597787-b08e-4504-84e4-4679cf1fc785",
   "metadata": {},
   "outputs": [
    {
     "name": "stdout",
     "output_type": "stream",
     "text": [
      "name: Alice\n",
      "age: 30\n"
     ]
    }
   ],
   "source": [
    "def print_info(**kwargs):\n",
    "    for key, value in kwargs.items():\n",
    "        print(f\"{key}: {value}\")\n",
    "\n",
    "print_info(name=\"Alice\", age=30)"
   ]
  },
  {
   "cell_type": "markdown",
   "id": "028f59e1-c90f-401e-901b-d74a97d1804a",
   "metadata": {},
   "source": [
    "##### local scope vs global scope"
   ]
  },
  {
   "cell_type": "code",
   "execution_count": 31,
   "id": "b0cbbc81-3c92-43df-8cfd-b4af23b47afd",
   "metadata": {},
   "outputs": [],
   "source": [
    "# local scope\n",
    "\n",
    "x = 10 # global variable within this ipython script scope\n",
    "\n",
    "# functions can reference global variables\n",
    "def access_global():\n",
    "    print('x printed from access_global:', x) # if a variable wasn't defined within a function python will look for it in the global variables"
   ]
  },
  {
   "cell_type": "code",
   "execution_count": 32,
   "id": "1ecc751e-3d3d-4760-a041-a5000dcb7743",
   "metadata": {},
   "outputs": [
    {
     "name": "stdout",
     "output_type": "stream",
     "text": [
      "x printed from access_global: 10\n"
     ]
    }
   ],
   "source": [
    "access_global()"
   ]
  },
  {
   "cell_type": "code",
   "execution_count": 33,
   "id": "68dae7e8-64d1-4c3f-ae91-20d9c2b71eb1",
   "metadata": {},
   "outputs": [
    {
     "name": "stdout",
     "output_type": "stream",
     "text": [
      "x printed from try_to_modify_global: 3.5\n"
     ]
    }
   ],
   "source": [
    "# however, unline other languages, a function cannot modify a global variable!\n",
    "def try_to_modify_global():\n",
    "    x = 3.5\n",
    "    print('x printed from try_to_modify_global:', x)\n",
    "try_to_modify_global()"
   ]
  },
  {
   "cell_type": "code",
   "execution_count": 36,
   "id": "b22e5d1d-4cf8-4543-8fc9-1820b125616c",
   "metadata": {},
   "outputs": [],
   "source": [
    "# you can resolve this by using the 'global' statement\n",
    "def modify_global():\n",
    "    global x;    #global is used to declare a variable inside a function as a global variable.\n",
    "    x = 'hello'\n",
    "    print('x printed from modify_global:', x)"
   ]
  },
  {
   "cell_type": "code",
   "execution_count": 37,
   "id": "e4017d91-609c-4c22-bed4-cb9d9d31ec7b",
   "metadata": {},
   "outputs": [
    {
     "name": "stdout",
     "output_type": "stream",
     "text": [
      "x printed from modify_global: hello\n"
     ]
    }
   ],
   "source": [
    "modify_global()"
   ]
  },
  {
   "cell_type": "code",
   "execution_count": 38,
   "id": "c08bc793-0ecb-4441-8d11-0783c4b78999",
   "metadata": {},
   "outputs": [
    {
     "data": {
      "text/plain": [
       "15"
      ]
     },
     "execution_count": 38,
     "metadata": {},
     "output_type": "execute_result"
    }
   ],
   "source": [
    "# be careful of the function 'shadow' of death\n",
    "sum =10+5\n",
    "sum"
   ]
  },
  {
   "cell_type": "code",
   "execution_count": 39,
   "id": "c56bb0c4-cfbd-444e-b9ef-da5d2f51e0ad",
   "metadata": {},
   "outputs": [
    {
     "ename": "TypeError",
     "evalue": "'int' object is not callable",
     "output_type": "error",
     "traceback": [
      "\u001b[1;31m---------------------------------------------------------------------------\u001b[0m",
      "\u001b[1;31mTypeError\u001b[0m                                 Traceback (most recent call last)",
      "Cell \u001b[1;32mIn[39], line 1\u001b[0m\n\u001b[1;32m----> 1\u001b[0m \u001b[38;5;28;43msum\u001b[39;49m\u001b[43m(\u001b[49m\u001b[38;5;241;43m10\u001b[39;49m\u001b[43m,\u001b[49m\u001b[38;5;241;43m5\u001b[39;49m\u001b[43m,\u001b[49m\u001b[43m)\u001b[49m\n",
      "\u001b[1;31mTypeError\u001b[0m: 'int' object is not callable"
     ]
    }
   ],
   "source": [
    "sum(10,5,)"
   ]
  },
  {
   "cell_type": "code",
   "execution_count": 41,
   "id": "b31b7f0b-020e-4e7c-be9b-209b8eeb9e42",
   "metadata": {},
   "outputs": [
    {
     "data": {
      "text/plain": [
       "140709595968648"
      ]
     },
     "execution_count": 41,
     "metadata": {},
     "output_type": "execute_result"
    }
   ],
   "source": [
    "x=12\n",
    "id(x)"
   ]
  },
  {
   "cell_type": "code",
   "execution_count": 46,
   "id": "7cbd7bb6-cab4-4308-b62a-604d773579ea",
   "metadata": {},
   "outputs": [],
   "source": [
    "#python pass params by refrence\n",
    "def cube(number):\n",
    "    print('id(number):', id(number))\n",
    "    return number ** 3"
   ]
  },
  {
   "cell_type": "code",
   "execution_count": 47,
   "id": "cf72c55c-bd05-43f4-a6ab-811bd9328e2f",
   "metadata": {},
   "outputs": [
    {
     "name": "stdout",
     "output_type": "stream",
     "text": [
      "id(number): 140709595968648\n"
     ]
    },
    {
     "data": {
      "text/plain": [
       "1728"
      ]
     },
     "execution_count": 47,
     "metadata": {},
     "output_type": "execute_result"
    }
   ],
   "source": [
    "cube(x)"
   ]
  },
  {
   "cell_type": "code",
   "execution_count": 48,
   "id": "7056d217-288c-44a7-97ee-2be5e6cf7745",
   "metadata": {},
   "outputs": [
    {
     "name": "stdout",
     "output_type": "stream",
     "text": [
      "id(number): 140709595968648\n"
     ]
    },
    {
     "data": {
      "text/plain": [
       "1728"
      ]
     },
     "execution_count": 48,
     "metadata": {},
     "output_type": "execute_result"
    }
   ],
   "source": [
    "cube(12)"
   ]
  },
  {
   "cell_type": "code",
   "execution_count": 49,
   "id": "fb410ed6-c96e-412f-9598-a69ce6fc0cbb",
   "metadata": {},
   "outputs": [],
   "source": [
    "# what about immutable objects?\n",
    "def cube(number):\n",
    "    print('id(number) before modifying number:', id(number))\n",
    "    number **= 3\n",
    "    print('id(number) after modifying number:', id(number))\n",
    "    return number"
   ]
  },
  {
   "cell_type": "code",
   "execution_count": 50,
   "id": "08bbda4d-4bc4-4070-9cc4-2210b1926d77",
   "metadata": {},
   "outputs": [
    {
     "name": "stdout",
     "output_type": "stream",
     "text": [
      "id(number) before modifying number: 140709595968648\n",
      "id(number) after modifying number: 2196788903088\n"
     ]
    },
    {
     "data": {
      "text/plain": [
       "1728"
      ]
     },
     "execution_count": 50,
     "metadata": {},
     "output_type": "execute_result"
    }
   ],
   "source": [
    "cube(x)"
   ]
  },
  {
   "cell_type": "code",
   "execution_count": 51,
   "id": "c8145d5d-8ed8-4e39-8b22-d5713b832e1e",
   "metadata": {},
   "outputs": [
    {
     "name": "stdout",
     "output_type": "stream",
     "text": [
      "[8, 27, 64]\n"
     ]
    }
   ],
   "source": [
    "def cuber(x):\n",
    "    return x ** 3\n",
    "\n",
    "my_list = [2,3,4]\n",
    "\n",
    "result = map(cuber,my_list)\n",
    "print(list(result))\n",
    "\n",
    "## equivalent to :\n",
    "\n",
    "# newresult = []\n",
    "# for item in my_list:\n",
    "#     newresult.append(item ** 3)\n",
    "# print(newresult)"
   ]
  },
  {
   "cell_type": "markdown",
   "id": "5431f475-24a7-46d4-8abc-d793bd8ac9b7",
   "metadata": {},
   "source": [
    "#### anonymous functions = lambda expressions"
   ]
  },
  {
   "cell_type": "code",
   "execution_count": 52,
   "id": "5cc0e9e2-7ae6-4297-a907-83f99ab3576d",
   "metadata": {},
   "outputs": [
    {
     "data": {
      "text/plain": [
       "<function __main__.<lambda>(a, b, c)>"
      ]
     },
     "execution_count": 52,
     "metadata": {},
     "output_type": "execute_result"
    }
   ],
   "source": [
    "#lambda <arguments>:<expression>\n",
    "lambda a,b,c:a+b-c+10"
   ]
  },
  {
   "cell_type": "code",
   "execution_count": 53,
   "id": "398b4171-a743-46b2-b949-dd7319d38ebf",
   "metadata": {},
   "outputs": [],
   "source": [
    "# lambda a, b, ..., n: <expression> \n",
    "# any number of arguments\n",
    "# the <expression> is the return value\n",
    "# all must be in a single line"
   ]
  },
  {
   "cell_type": "code",
   "execution_count": 54,
   "id": "52e73d88-9ad0-4788-beb7-25d3a40a259b",
   "metadata": {},
   "outputs": [],
   "source": [
    "f=lambda x:x**2"
   ]
  },
  {
   "cell_type": "code",
   "execution_count": 55,
   "id": "fd7daf08-029e-406f-adf4-3d9236c89aa4",
   "metadata": {},
   "outputs": [
    {
     "data": {
      "text/plain": [
       "function"
      ]
     },
     "execution_count": 55,
     "metadata": {},
     "output_type": "execute_result"
    }
   ],
   "source": [
    "type(f)"
   ]
  },
  {
   "cell_type": "code",
   "execution_count": 56,
   "id": "9a0f8088-6197-49a2-8795-1d202105b0f1",
   "metadata": {},
   "outputs": [
    {
     "data": {
      "text/plain": [
       "4"
      ]
     },
     "execution_count": 56,
     "metadata": {},
     "output_type": "execute_result"
    }
   ],
   "source": [
    "f(2)"
   ]
  },
  {
   "cell_type": "code",
   "execution_count": 58,
   "id": "8d920efd-dd87-4220-a012-bd796fdbe22a",
   "metadata": {},
   "outputs": [],
   "source": [
    "my_list = [2,3,4]\n",
    "cuber=list(map(lambda x:x**3,my_list))"
   ]
  },
  {
   "cell_type": "code",
   "execution_count": 60,
   "id": "01780bff-2c00-4fe2-ad03-fc723f5bc606",
   "metadata": {},
   "outputs": [
    {
     "data": {
      "text/plain": [
       "[4, 9, 16]"
      ]
     },
     "execution_count": 60,
     "metadata": {},
     "output_type": "execute_result"
    }
   ],
   "source": [
    "cuber"
   ]
  },
  {
   "cell_type": "code",
   "execution_count": 63,
   "id": "31ec3d73-0407-4054-bfb1-866bd08f3472",
   "metadata": {},
   "outputs": [
    {
     "name": "stdout",
     "output_type": "stream",
     "text": [
      "121\n"
     ]
    }
   ],
   "source": [
    "def my_fun(n):\n",
    "    return lambda x:x**n\n",
    "doubler=my_fun(2)\n",
    "print(doubler(11))"
   ]
  },
  {
   "cell_type": "code",
   "execution_count": 64,
   "id": "ee83247c-9976-40bc-8896-534834a9fe0e",
   "metadata": {},
   "outputs": [
    {
     "data": {
      "text/plain": [
       "32"
      ]
     },
     "execution_count": 64,
     "metadata": {},
     "output_type": "execute_result"
    }
   ],
   "source": [
    "def quadratic(a,b,c):\n",
    "    return lambda x: a * (x ** 2) + b * x - c\n",
    "quadratic(1,2,3)(5)"
   ]
  },
  {
   "cell_type": "code",
   "execution_count": null,
   "id": "6a2aead4-d001-4324-b6d0-125ead4a597e",
   "metadata": {},
   "outputs": [],
   "source": []
  }
 ],
 "metadata": {
  "kernelspec": {
   "display_name": "Python 3 (ipykernel)",
   "language": "python",
   "name": "python3"
  },
  "language_info": {
   "codemirror_mode": {
    "name": "ipython",
    "version": 3
   },
   "file_extension": ".py",
   "mimetype": "text/x-python",
   "name": "python",
   "nbconvert_exporter": "python",
   "pygments_lexer": "ipython3",
   "version": "3.11.2"
  }
 },
 "nbformat": 4,
 "nbformat_minor": 5
}
